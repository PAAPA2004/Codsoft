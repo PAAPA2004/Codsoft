{
 "cells": [
  {
   "cell_type": "code",
   "execution_count": 1,
   "id": "ccd6f7c9",
   "metadata": {},
   "outputs": [],
   "source": [
    "import requests"
   ]
  },
  {
   "cell_type": "code",
   "execution_count": 2,
   "id": "8a6eefb6",
   "metadata": {},
   "outputs": [],
   "source": [
    "def get_weather(city, api_key):\n",
    "    url = f\"http://api.openweathermap.org/data/2.5/weather?q={city}&appid={api_key}&units=metric\"\n",
    "    response = requests.get(url)\n",
    "    if response.status_code == 200:\n",
    "        data = response.json()\n",
    "        weather_description = data['weather'][0]['description']\n",
    "        temperature = data['main']['temp']\n",
    "        return f\"The weather in {city} is currently {weather_description} with a temperature of {temperature}°C.\"\n",
    "    else:\n",
    "        return \"I couldn't find the weather information for that location.\""
   ]
  },
  {
   "cell_type": "code",
   "execution_count": 3,
   "id": "563bc6ee",
   "metadata": {},
   "outputs": [
    {
     "name": "stdout",
     "output_type": "stream",
     "text": [
      "Hello! I'm a chatbot. You can ask me about AI, jokes, math, or just chat!\n",
      "You: calculate\n",
      "Chatbot: Sorry, I couldn't calculate that. Please try a different math problem.\n",
      "You: jokes\n",
      "Chatbot: Why was the math book sad? It had too many problems.\n",
      "You: tell me about yourself\n",
      "Chatbot: I'm a chatbot designed to help you with various queries like AI, math, and more.\n",
      "You: fact\n",
      "Chatbot: Octopuses have three hearts and blue blood.\n",
      "You: what can you do\n",
      "Chatbot: I can tell jokes, do math, give fun facts, and answer general questions!\n",
      "You: bye\n",
      "Chatbot: Goodbye! Have a great day!\n"
     ]
    }
   ],
   "source": [
    "import random\n",
    "\n",
    "def simple_chatbot():\n",
    "    print(\"Hello! I'm a chatbot. You can ask me about AI, jokes, math, or just chat!\")\n",
    "\n",
    "    # Dictionary to store responses for common questions\n",
    "    responses = {\n",
    "        \"how are you\": \"I'm just a program, but thanks for asking! How about you?\",\n",
    "        \"i'm good\": \"That's nice to hear!\",\n",
    "        \"what is your name\": \"I'm a chatbot created to assist you.\",\n",
    "        \"what is ai\": \"AI, or Artificial Intelligence, simulates human intelligence in machines. It involves learning, reasoning, and problem-solving.\",\n",
    "        \"tell me about yourself\": \"I'm a chatbot designed to help you with various queries like AI, math, and more.\",\n",
    "        \"what can you do\": \"I can tell jokes, do math, give fun facts, and answer general questions!\",\n",
    "        \"help\": \"You can ask me about math, jokes, AI, or just chat!\"\n",
    "    }\n",
    "\n",
    "    # List of jokes and fun facts\n",
    "    jokes = [\n",
    "        \"Why don't scientists trust atoms? Because they make up everything!\",\n",
    "        \"Why did the computer go to the doctor? Because it had a virus!\",\n",
    "        \"Why was the math book sad? It had too many problems.\"\n",
    "    ]\n",
    "    \n",
    "    facts = [\n",
    "        \"Did you know? Honey never spoils! Archaeologists have found pots of honey in ancient tombs that are over 3000 years old.\",\n",
    "        \"The Eiffel Tower can be 15 cm taller during the summer, due to thermal expansion.\",\n",
    "        \"Octopuses have three hearts and blue blood.\"\n",
    "    ]\n",
    "\n",
    "    while True:\n",
    "        user_input = input(\"You: \").lower()\n",
    "\n",
    "        # Check for exit condition\n",
    "        if \"bye\" in user_input or \"exit\" in user_input:\n",
    "            print(\"Chatbot: Goodbye! Have a great day!\")\n",
    "            break\n",
    "\n",
    "        # Check for math queries (e.g., \"calculate 2+2\")\n",
    "        elif \"calculate\" in user_input:\n",
    "            try:\n",
    "                equation = user_input.replace(\"calculate\", \"\").strip()\n",
    "                result = eval(equation)\n",
    "                print(f\"Chatbot: The result is {result}\")\n",
    "            except:\n",
    "                print(\"Chatbot: Sorry, I couldn't calculate that. Please try a different math problem.\")\n",
    "\n",
    "        # Check for jokes\n",
    "        elif \"joke\" in user_input:\n",
    "            print(f\"Chatbot: {random.choice(jokes)}\")\n",
    "        \n",
    "        # Check for fun facts\n",
    "        elif \"fact\" in user_input:\n",
    "            print(f\"Chatbot: {random.choice(facts)}\")\n",
    "        \n",
    "        # Check for predefined responses\n",
    "        elif user_input in responses:\n",
    "            print(f\"Chatbot: {responses[user_input]}\")\n",
    "\n",
    "        # If the input is not recognized\n",
    "        else:\n",
    "            print(\"Chatbot: I'm not sure how to respond to that. Can you ask something else?\")\n",
    "\n",
    "# Start the chatbot\n",
    "simple_chatbot()\n"
   ]
  },
  {
   "cell_type": "code",
   "execution_count": null,
   "id": "ad403eeb",
   "metadata": {},
   "outputs": [],
   "source": []
  }
 ],
 "metadata": {
  "kernelspec": {
   "display_name": "Python 3 (ipykernel)",
   "language": "python",
   "name": "python3"
  },
  "language_info": {
   "codemirror_mode": {
    "name": "ipython",
    "version": 3
   },
   "file_extension": ".py",
   "mimetype": "text/x-python",
   "name": "python",
   "nbconvert_exporter": "python",
   "pygments_lexer": "ipython3",
   "version": "3.9.12"
  }
 },
 "nbformat": 4,
 "nbformat_minor": 5
}
