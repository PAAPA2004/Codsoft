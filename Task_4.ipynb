{
  "nbformat": 4,
  "nbformat_minor": 0,
  "metadata": {
    "colab": {
      "provenance": []
    },
    "kernelspec": {
      "name": "python3",
      "display_name": "Python 3"
    },
    "language_info": {
      "name": "python"
    }
  },
  "cells": [
    {
      "cell_type": "code",
      "execution_count": 1,
      "metadata": {
        "colab": {
          "base_uri": "https://localhost:8080/"
        },
        "id": "w_IBxVqsp9L4",
        "outputId": "02490cd1-5c11-441e-95e2-46350d6e945f"
      },
      "outputs": [
        {
          "output_type": "stream",
          "name": "stdout",
          "text": [
            "Collecting scikit-surprise\n",
            "  Downloading scikit_surprise-1.1.4.tar.gz (154 kB)\n",
            "\u001b[?25l     \u001b[90m━━━━━━━━━━━━━━━━━━━━━━━━━━━━━━━━━━━━━━━━\u001b[0m \u001b[32m0.0/154.4 kB\u001b[0m \u001b[31m?\u001b[0m eta \u001b[36m-:--:--\u001b[0m\r\u001b[2K     \u001b[90m━━━━━━━━━━━━━━━━━━━━━━━━━━━━━━━━━━━━━━━━\u001b[0m \u001b[32m154.4/154.4 kB\u001b[0m \u001b[31m4.5 MB/s\u001b[0m eta \u001b[36m0:00:00\u001b[0m\n",
            "\u001b[?25h  Installing build dependencies ... \u001b[?25l\u001b[?25hdone\n",
            "  Getting requirements to build wheel ... \u001b[?25l\u001b[?25hdone\n",
            "  Preparing metadata (pyproject.toml) ... \u001b[?25l\u001b[?25hdone\n",
            "Requirement already satisfied: joblib>=1.2.0 in /usr/local/lib/python3.10/dist-packages (from scikit-surprise) (1.4.2)\n",
            "Requirement already satisfied: numpy>=1.19.5 in /usr/local/lib/python3.10/dist-packages (from scikit-surprise) (1.26.4)\n",
            "Requirement already satisfied: scipy>=1.6.0 in /usr/local/lib/python3.10/dist-packages (from scikit-surprise) (1.13.1)\n",
            "Building wheels for collected packages: scikit-surprise\n",
            "  Building wheel for scikit-surprise (pyproject.toml) ... \u001b[?25l\u001b[?25hdone\n",
            "  Created wheel for scikit-surprise: filename=scikit_surprise-1.1.4-cp310-cp310-linux_x86_64.whl size=2357270 sha256=53219ede3e1a5e4dbef521f565138ef53990f3797466b8b9a6be95cd97368292\n",
            "  Stored in directory: /root/.cache/pip/wheels/4b/3f/df/6acbf0a40397d9bf3ff97f582cc22fb9ce66adde75bc71fd54\n",
            "Successfully built scikit-surprise\n",
            "Installing collected packages: scikit-surprise\n",
            "Successfully installed scikit-surprise-1.1.4\n"
          ]
        }
      ],
      "source": [
        "pip install scikit-surprise"
      ]
    },
    {
      "cell_type": "code",
      "source": [
        "import pandas as pd\n",
        "from surprise import Dataset, Reader, SVD\n",
        "from surprise.model_selection import train_test_split\n",
        "from surprise import accuracy\n",
        "\n",
        "# Load the MovieLens dataset\n",
        "data = Dataset.load_builtin('ml-100k')  # or you can load your own dataset\n",
        "\n",
        "# Define a Reader object to parse the ratings\n",
        "reader = Reader(rating_scale=(1, 5))\n",
        "\n",
        "# Load the data into a DataFrame\n",
        "df = pd.DataFrame(data.raw_ratings, columns=['user_id', 'item_id', 'rating', 'timestamp'])\n",
        "\n",
        "# Create train and test sets\n",
        "trainset, testset = train_test_split(data, test_size=0.2)\n",
        "\n",
        "# Use SVD for collaborative filtering\n",
        "model = SVD()\n",
        "model.fit(trainset)\n",
        "\n",
        "# Make predictions\n",
        "predictions = model.test(testset)\n",
        "\n",
        "# Evaluate accuracy\n",
        "accuracy.rmse(predictions)\n",
        "\n",
        "# Function to get movie recommendations for a user\n",
        "def get_movie_recommendations(user_id, n_recommendations=5):\n",
        "    user_items = df[df['user_id'] == user_id]['item_id'].unique()\n",
        "    all_items = df['item_id'].unique()\n",
        "\n",
        "    # Get unrated items\n",
        "    unrated_items = [item for item in all_items if item not in user_items]\n",
        "\n",
        "    # Predict ratings for unrated items\n",
        "    predicted_ratings = [(item, model.predict(user_id, item).est) for item in unrated_items]\n",
        "\n",
        "    # Sort and return top N recommendations\n",
        "    recommended_items = sorted(predicted_ratings, key=lambda x: x[1], reverse=True)[:n_recommendations]\n",
        "    return recommended_items\n",
        "\n",
        "# Example usage\n",
        "user_id = 196  # Change this to the user ID you want to get recommendations for\n",
        "recommendations = get_movie_recommendations(user_id)\n",
        "print(\"Recommended movies:\", recommendations)\n"
      ],
      "metadata": {
        "colab": {
          "base_uri": "https://localhost:8080/"
        },
        "id": "MglfxMDDqBX-",
        "outputId": "a7612755-c662-43ce-db21-63ea7f7e3e73"
      },
      "execution_count": 3,
      "outputs": [
        {
          "output_type": "stream",
          "name": "stdout",
          "text": [
            "RMSE: 0.9431\n",
            "Recommended movies: [('318', 4.588824032198449), ('483', 4.577163030244101), ('114', 4.535748693563354), ('169', 4.53049124009552), ('408', 4.529805123692133)]\n"
          ]
        }
      ]
    },
    {
      "cell_type": "code",
      "source": [
        "import pandas as pd\n",
        "from sklearn.feature_extraction.text import TfidfVectorizer\n",
        "from sklearn.metrics.pairwise import linear_kernel\n",
        "\n",
        "# Sample movie data\n",
        "movies = pd.DataFrame({\n",
        "    'title': ['Movie A', 'Movie B', 'Movie C', 'Movie D'],\n",
        "    'description': [\n",
        "        'A thrilling adventure in the wild.',\n",
        "        'A heartwarming love story.',\n",
        "        'A documentary about nature.',\n",
        "        'An action-packed thriller.'\n",
        "    ]\n",
        "})\n",
        "\n",
        "# Create TF-IDF vectors for the descriptions\n",
        "tfidf = TfidfVectorizer(stop_words='english')\n",
        "tfidf_matrix = tfidf.fit_transform(movies['description'])\n",
        "\n",
        "# Compute the cosine similarity matrix\n",
        "cosine_sim = linear_kernel(tfidf_matrix, tfidf_matrix)\n",
        "\n",
        "# Function to get movie recommendations based on a title\n",
        "def get_content_recommendations(title, n_recommendations=2):\n",
        "    idx = movies.index[movies['title'] == title].tolist()[0]\n",
        "    sim_scores = list(enumerate(cosine_sim[idx]))\n",
        "    sim_scores = sorted(sim_scores, key=lambda x: x[1], reverse=True)\n",
        "\n",
        "    # Get the scores of the n most similar movies\n",
        "    sim_scores = sim_scores[1:n_recommendations + 1]\n",
        "    movie_indices = [i[0] for i in sim_scores]\n",
        "\n",
        "    return movies['title'].iloc[movie_indices]\n",
        "\n",
        "# Example usage\n",
        "recommended_movies = get_content_recommendations('Movie A')\n",
        "print(\"Recommended movies:\", recommended_movies.tolist())\n"
      ],
      "metadata": {
        "colab": {
          "base_uri": "https://localhost:8080/"
        },
        "id": "5JJ6r6fJqnf1",
        "outputId": "fc9a1860-9830-4c0f-c6cf-5d2de86a62b6"
      },
      "execution_count": 4,
      "outputs": [
        {
          "output_type": "stream",
          "name": "stdout",
          "text": [
            "Recommended movies: ['Movie B', 'Movie C']\n"
          ]
        }
      ]
    },
    {
      "cell_type": "code",
      "source": [],
      "metadata": {
        "id": "IK65V9ekrlZq"
      },
      "execution_count": null,
      "outputs": []
    }
  ]
}