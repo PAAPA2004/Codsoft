{
  "nbformat": 4,
  "nbformat_minor": 0,
  "metadata": {
    "colab": {
      "provenance": []
    },
    "kernelspec": {
      "name": "python3",
      "display_name": "Python 3"
    },
    "language_info": {
      "name": "python"
    }
  },
  "cells": [
    {
      "cell_type": "code",
      "source": [
        "from transformers import BlipProcessor, BlipForConditionalGeneration\n",
        "import torch\n",
        "from PIL import Image\n",
        "\n",
        "# Load processor and model\n",
        "processor = BlipProcessor.from_pretrained(\"Salesforce/blip-image-captioning-base\")\n",
        "model = BlipForConditionalGeneration.from_pretrained(\"Salesforce/blip-image-captioning-base\")\n",
        "\n",
        "# Load and preprocess the image\n",
        "image_path = 'cat.jpg'  # Your image path\n",
        "image = Image.open(image_path)\n",
        "\n",
        "# Process the image and generate a caption\n",
        "inputs = processor(images=image, return_tensors=\"pt\")\n",
        "output = model.generate(**inputs)\n",
        "caption = processor.decode(output[0], skip_special_tokens=True)\n",
        "\n",
        "print(f\"Generated Caption: {caption}\")\n"
      ],
      "metadata": {
        "colab": {
          "base_uri": "https://localhost:8080/"
        },
        "id": "S8D140HI5BRS",
        "outputId": "9e0ff568-15b2-4112-8d28-bf0570bf8bc5"
      },
      "execution_count": 14,
      "outputs": [
        {
          "output_type": "stream",
          "name": "stdout",
          "text": [
            "Generated Caption: a cat sitting on top of a pile of books\n"
          ]
        }
      ]
    },
    {
      "cell_type": "code",
      "source": [],
      "metadata": {
        "id": "0mcpRkrb75cE"
      },
      "execution_count": null,
      "outputs": []
    }
  ]
}